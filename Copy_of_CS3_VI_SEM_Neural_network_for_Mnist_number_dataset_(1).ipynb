{
  "cells": [
    {
      "cell_type": "markdown",
      "metadata": {
        "id": "view-in-github",
        "colab_type": "text"
      },
      "source": [
        "<a href=\"https://colab.research.google.com/github/Tanishq-jha/Machine-learning/blob/main/Copy_of_CS3_VI_SEM_Neural_network_for_Mnist_number_dataset_(1).ipynb\" target=\"_parent\"><img src=\"https://colab.research.google.com/assets/colab-badge.svg\" alt=\"Open In Colab\"/></a>"
      ]
    },
    {
      "cell_type": "markdown",
      "metadata": {
        "id": "aK_1LHdwQpF9"
      },
      "source": []
    },
    {
      "cell_type": "markdown",
      "metadata": {
        "id": "view-in-github"
      },
      "source": [
        "<a href=\"https://colab.research.google.com/github/Mustafalw02/Machine-Learning-Lab-Work/blob/master/Neural_network_for_Mnist_number_dataset.ipynb\" target=\"_parent\"><img src=\"https://colab.research.google.com/assets/colab-badge.svg\" alt=\"Open In Colab\"/></a>"
      ]
    },
    {
      "cell_type": "markdown",
      "metadata": {
        "id": "zQvT7bhRzp4e"
      },
      "source": [
        "<h1>Table of Contents<span class=\"tocSkip\"></span></h1>\n",
        "<div class=\"toc\" style=\"margin-top: 1em;\"><ul class=\"toc-item\"><li><span><a href=\"#Loading-the-MNIST-dataset-in-Keras\" data-toc-modified-id=\"Loading-the-MNIST-dataset-in-Keras-1\"><span class=\"toc-item-num\">1&nbsp;&nbsp;</span>Loading the MNIST dataset in Keras</a></span></li><li><span><a href=\"#The-network-architecture\" data-toc-modified-id=\"The-network-architecture-2\"><span class=\"toc-item-num\">2&nbsp;&nbsp;</span>The network architecture</a></span></li><li><span><a href=\"#The-compilation-step\" data-toc-modified-id=\"The-compilation-step-3\"><span class=\"toc-item-num\">3&nbsp;&nbsp;</span>The compilation step</a></span></li><li><span><a href=\"#Preparing-the-image-data\" data-toc-modified-id=\"Preparing-the-image-data-4\"><span class=\"toc-item-num\">4&nbsp;&nbsp;</span>Preparing the image data</a></span></li><li><span><a href=\"#Preparing-the-labels\" data-toc-modified-id=\"Preparing-the-labels-5\"><span class=\"toc-item-num\">5&nbsp;&nbsp;</span>Preparing the labels</a></span></li><li><span><a href=\"#Training-and-Testing\" data-toc-modified-id=\"Training-and-Testing-6\"><span class=\"toc-item-num\">6&nbsp;&nbsp;</span>Training and Testing</a></span></li></ul></div>"
      ]
    },
    {
      "cell_type": "markdown",
      "metadata": {
        "id": "GSee4zKUzp4i"
      },
      "source": [
        "# Loading the MNIST dataset in Keras"
      ]
    },
    {
      "cell_type": "code",
      "execution_count": null,
      "metadata": {
        "id": "6a8IveFHzp4l"
      },
      "outputs": [],
      "source": [
        "from keras.datasets import mnist"
      ]
    },
    {
      "cell_type": "code",
      "execution_count": null,
      "metadata": {
        "id": "LQPmnZ8xzp4v"
      },
      "outputs": [],
      "source": [
        "(train_images, train_labels), (test_images, test_labels) = mnist.load_data()"
      ]
    },
    {
      "cell_type": "markdown",
      "metadata": {
        "id": "mnZfS9HYzp4z"
      },
      "source": [
        "- The images are encoded as Numpy arrays, and the labels are an array of digits, ranging from 0 to 9."
      ]
    },
    {
      "cell_type": "code",
      "execution_count": null,
      "metadata": {
        "id": "VFdoffSmzp41",
        "colab": {
          "base_uri": "https://localhost:8080/"
        },
        "outputId": "62a96aed-63e5-4b9c-c101-9ef91f8ddccd"
      },
      "outputs": [
        {
          "output_type": "execute_result",
          "data": {
            "text/plain": [
              "(60000, 28, 28)"
            ]
          },
          "metadata": {},
          "execution_count": 54
        }
      ],
      "source": [
        "train_images.shape\n"
      ]
    },
    {
      "cell_type": "code",
      "execution_count": null,
      "metadata": {
        "colab": {
          "base_uri": "https://localhost:8080/"
        },
        "id": "tD65nC-vzp45",
        "outputId": "18f33480-6959-46ce-dbe0-072da2f2e1da"
      },
      "outputs": [
        {
          "output_type": "execute_result",
          "data": {
            "text/plain": [
              "60000"
            ]
          },
          "metadata": {},
          "execution_count": 55
        }
      ],
      "source": [
        "len(train_labels)"
      ]
    },
    {
      "cell_type": "code",
      "execution_count": null,
      "metadata": {
        "colab": {
          "base_uri": "https://localhost:8080/"
        },
        "id": "IX9LpWNazp4_",
        "outputId": "bf68a88b-c6d7-4a18-9076-ab0396fb63e1"
      },
      "outputs": [
        {
          "output_type": "execute_result",
          "data": {
            "text/plain": [
              "array([5, 0, 4, ..., 5, 6, 8], dtype=uint8)"
            ]
          },
          "metadata": {},
          "execution_count": 56
        }
      ],
      "source": [
        "train_labels"
      ]
    },
    {
      "cell_type": "code",
      "execution_count": null,
      "metadata": {
        "colab": {
          "base_uri": "https://localhost:8080/"
        },
        "id": "SG0L5p4Dzp5D",
        "outputId": "3900bd14-54ae-4ccc-ba8b-9db58057cd56"
      },
      "outputs": [
        {
          "output_type": "execute_result",
          "data": {
            "text/plain": [
              "(10000, 28, 28)"
            ]
          },
          "metadata": {},
          "execution_count": 57
        }
      ],
      "source": [
        "test_images.shape"
      ]
    },
    {
      "cell_type": "code",
      "execution_count": null,
      "metadata": {
        "colab": {
          "base_uri": "https://localhost:8080/"
        },
        "id": "MimOH_Xnzp5I",
        "outputId": "02756a66-280c-4a3a-afe2-b4708a4d37c5"
      },
      "outputs": [
        {
          "output_type": "execute_result",
          "data": {
            "text/plain": [
              "10000"
            ]
          },
          "metadata": {},
          "execution_count": 58
        }
      ],
      "source": [
        "len(test_labels)"
      ]
    },
    {
      "cell_type": "code",
      "execution_count": null,
      "metadata": {
        "colab": {
          "base_uri": "https://localhost:8080/"
        },
        "id": "8EHR0v0Bzp5M",
        "outputId": "c023ca01-ba1c-4fa8-b1d8-7ea53d5d9b6a"
      },
      "outputs": [
        {
          "output_type": "execute_result",
          "data": {
            "text/plain": [
              "array([7, 2, 1, ..., 4, 5, 6], dtype=uint8)"
            ]
          },
          "metadata": {},
          "execution_count": 59
        }
      ],
      "source": [
        "test_labels"
      ]
    },
    {
      "cell_type": "markdown",
      "metadata": {
        "id": "s0Tp6nDRzp5R"
      },
      "source": [
        "Let's build the network"
      ]
    },
    {
      "cell_type": "markdown",
      "metadata": {
        "id": "WxbJXg2Czp5T"
      },
      "source": [
        "# The network architecture"
      ]
    },
    {
      "cell_type": "markdown",
      "metadata": {
        "id": "kGCxNrDdzp5U"
      },
      "source": [
        "- The core building block of neural networks is the **layer**, a data-processing module that you can think of as a filter for data.\n",
        "    - Some data goes in, and it comes out in a more useful form.\n",
        "    - Layers extract **representations** (hopefully, meaningful for the data problem at hand) out of the data fed into them.\n",
        "    \n",
        "- Most of deep learning consists of chaining together simple layers that will implement a form of progressive **data distillation**.\n",
        "- A deep learning model is like a sieve for data-processing, made of a succession of increasingly refined data filters--**the layers**."
      ]
    },
    {
      "cell_type": "code",
      "execution_count": null,
      "metadata": {
        "id": "uyUqGjPTzp5V"
      },
      "outputs": [],
      "source": [
        "from keras import models\n",
        "from keras import layers"
      ]
    },
    {
      "cell_type": "code",
      "execution_count": null,
      "metadata": {
        "colab": {
          "base_uri": "https://localhost:8080/"
        },
        "id": "NEVk0S9_zp5a",
        "outputId": "a115d866-744d-4fe4-b183-6edc97edb70e"
      },
      "outputs": [
        {
          "output_type": "stream",
          "name": "stdout",
          "text": [
            "Model: \"sequential_2\"\n",
            "_________________________________________________________________\n",
            " Layer (type)                Output Shape              Param #   \n",
            "=================================================================\n",
            " dense_6 (Dense)             (None, 32)                25120     \n",
            "                                                                 \n",
            " dense_7 (Dense)             (None, 8)                 264       \n",
            "                                                                 \n",
            " dense_8 (Dense)             (None, 10)                90        \n",
            "                                                                 \n",
            "=================================================================\n",
            "Total params: 25,474\n",
            "Trainable params: 25,474\n",
            "Non-trainable params: 0\n",
            "_________________________________________________________________\n"
          ]
        }
      ],
      "source": [
        "network = models.Sequential()\n",
        "# Dense(32) is a fully-connected layer with 32 hidden units.\n",
        "# in the first layer, you must specify the expected input data shape :\n",
        "# here, 28 X 28=784 -dimensional vectors.\n",
        "network.add(layers.Dense(32, activation='sigmoid', input_shape=(28 * 28, )))\n",
        "network.add(layers.Dense(8, activation='sigmoid'))\n",
        "network.add(layers.Dense(10, activation='softmax'))\n",
        "network.summary()"
      ]
    },
    {
      "cell_type": "code",
      "execution_count": null,
      "metadata": {
        "colab": {
          "base_uri": "https://localhost:8080/"
        },
        "id": "KJSFxZe_e0vC",
        "outputId": "36e21252-9a3f-406e-b2f5-ef492ee0efc1"
      },
      "outputs": [
        {
          "output_type": "stream",
          "name": "stdout",
          "text": [
            "Drive already mounted at /content/drive; to attempt to forcibly remount, call drive.mount(\"/content/drive\", force_remount=True).\n"
          ]
        }
      ],
      "source": [
        "from google.colab import drive\n",
        "drive.mount('/content/drive')"
      ]
    },
    {
      "cell_type": "markdown",
      "metadata": {
        "id": "Af2c2tvKzp5f"
      },
      "source": [
        "- Our network consists of a sequence of two *Dense* layers, which are densely connected (also called *fully connected*) neural layers.\n",
        "- The second (and last) layer is a **10-way** *softmax* layer, which means it will return an array of **10** probability scores. Each score will be the probability that the current digit image belongs to one of our 10 digit classes. "
      ]
    },
    {
      "cell_type": "markdown",
      "metadata": {
        "id": "NHbqJ-rWzp5g"
      },
      "source": [
        "# The compilation step"
      ]
    },
    {
      "cell_type": "markdown",
      "metadata": {
        "id": "1w0ne5wYzp5h"
      },
      "source": [
        "- To make the network ready for training, we need to pick three more things, as part of the **compilation** step:\n",
        " - **A loss function**-- How the network will be able to measure its performance on the training data, and thus how it will be able to steer itself in the right direction.\n",
        " - **An optimizer**--The mechanism through which the network will update itself based on the data it sees and its loss function.\n",
        " - **Metrics to monitor during training and testing**--Here, we will only care about accuracy (the fraction of the images that were correctly classified)."
      ]
    },
    {
      "cell_type": "code",
      "execution_count": null,
      "metadata": {
        "id": "uvSO-q9Ozp5i"
      },
      "outputs": [],
      "source": [
        "network.compile(optimizer='sgd',\n",
        "                loss='categorical_crossentropy',\n",
        "                metrics=['accuracy'])\n",
        "    "
      ]
    },
    {
      "cell_type": "markdown",
      "metadata": {
        "id": "fLHJqTLXzp5o"
      },
      "source": [
        "# Preparing the image data"
      ]
    },
    {
      "cell_type": "markdown",
      "metadata": {
        "id": "ajWKVl1-zp5q"
      },
      "source": [
        "Before training, we will preprocess the data by reshaping it into the shape the network expects and scaling it so that all values are in the $[0-1]$ interval."
      ]
    },
    {
      "cell_type": "code",
      "execution_count": null,
      "metadata": {
        "id": "4vMdz75Wzp5s"
      },
      "outputs": [],
      "source": [
        "train_images = train_images.reshape((60000, 28 * 28))\n",
        "train_images = train_images.astype('float32') / 255."
      ]
    },
    {
      "cell_type": "code",
      "execution_count": null,
      "metadata": {
        "id": "4icW7vDgzp5w"
      },
      "outputs": [],
      "source": [
        "test_images = test_images.reshape((10000, 28 * 28))\n",
        "test_images = test_images.astype('float32') / 255."
      ]
    },
    {
      "cell_type": "markdown",
      "metadata": {
        "id": "0SHD8Vvhzp5z"
      },
      "source": [
        "# Preparing the labels"
      ]
    },
    {
      "cell_type": "markdown",
      "metadata": {
        "id": "JA1YmuF1zp51"
      },
      "source": [
        "We also need to categorically encode the labels."
      ]
    },
    {
      "cell_type": "code",
      "execution_count": null,
      "metadata": {
        "id": "Bh42ABtgzp58"
      },
      "outputs": [],
      "source": [
        "from keras.utils import to_categorical"
      ]
    },
    {
      "cell_type": "code",
      "execution_count": null,
      "metadata": {
        "colab": {
          "base_uri": "https://localhost:8080/"
        },
        "id": "3eCqlapJzp6A",
        "outputId": "20ad628b-8196-42c6-e924-6f1549d1ea8b"
      },
      "outputs": [
        {
          "output_type": "execute_result",
          "data": {
            "text/plain": [
              "array([[0., 0., 0., ..., 0., 0., 0.],\n",
              "       [1., 0., 0., ..., 0., 0., 0.],\n",
              "       [0., 0., 0., ..., 0., 0., 0.],\n",
              "       ...,\n",
              "       [0., 0., 0., ..., 0., 0., 0.],\n",
              "       [0., 0., 0., ..., 0., 0., 0.],\n",
              "       [0., 0., 0., ..., 0., 1., 0.]], dtype=float32)"
            ]
          },
          "metadata": {},
          "execution_count": 68
        }
      ],
      "source": [
        "train_labels = to_categorical(train_labels)\n",
        "train_labels"
      ]
    },
    {
      "cell_type": "code",
      "execution_count": null,
      "metadata": {
        "colab": {
          "base_uri": "https://localhost:8080/"
        },
        "id": "wWXDQKNBzp6E",
        "outputId": "bbb681c0-9891-4513-e35e-fcb550795363"
      },
      "outputs": [
        {
          "output_type": "execute_result",
          "data": {
            "text/plain": [
              "array([[0., 0., 0., ..., 1., 0., 0.],\n",
              "       [0., 0., 1., ..., 0., 0., 0.],\n",
              "       [0., 1., 0., ..., 0., 0., 0.],\n",
              "       ...,\n",
              "       [0., 0., 0., ..., 0., 0., 0.],\n",
              "       [0., 0., 0., ..., 0., 0., 0.],\n",
              "       [0., 0., 0., ..., 0., 0., 0.]], dtype=float32)"
            ]
          },
          "metadata": {},
          "execution_count": 69
        }
      ],
      "source": [
        "test_labels = to_categorical(test_labels)\n",
        "test_labels"
      ]
    },
    {
      "cell_type": "markdown",
      "metadata": {
        "id": "csJ7yQVxzp6I"
      },
      "source": [
        "# Training and Testing"
      ]
    },
    {
      "cell_type": "markdown",
      "metadata": {
        "id": "P-KLV-VIzp6K"
      },
      "source": [
        "We are now ready to train the network, which in Keras is done via a call to the network's fit method--we fit the model to its training data:"
      ]
    },
    {
      "cell_type": "code",
      "execution_count": null,
      "metadata": {
        "colab": {
          "base_uri": "https://localhost:8080/"
        },
        "id": "sGWa7zXYzp6O",
        "outputId": "4ed46298-8558-464d-bf09-7b7245ddb66d"
      },
      "outputs": [
        {
          "output_type": "stream",
          "name": "stdout",
          "text": [
            "Epoch 1/200\n",
            "59/59 [==============================] - 0s 4ms/step - loss: 1.5933 - accuracy: 0.4821\n",
            "Epoch 2/200\n",
            "59/59 [==============================] - 0s 4ms/step - loss: 1.5865 - accuracy: 0.4842\n",
            "Epoch 3/200\n",
            "59/59 [==============================] - 0s 4ms/step - loss: 1.5799 - accuracy: 0.4856\n",
            "Epoch 4/200\n",
            "59/59 [==============================] - 0s 4ms/step - loss: 1.5734 - accuracy: 0.4874\n",
            "Epoch 5/200\n",
            "59/59 [==============================] - 0s 4ms/step - loss: 1.5670 - accuracy: 0.4910\n",
            "Epoch 6/200\n",
            "59/59 [==============================] - 0s 5ms/step - loss: 1.5606 - accuracy: 0.4920\n",
            "Epoch 7/200\n",
            "59/59 [==============================] - 0s 4ms/step - loss: 1.5544 - accuracy: 0.4937\n",
            "Epoch 8/200\n",
            "59/59 [==============================] - 0s 4ms/step - loss: 1.5482 - accuracy: 0.4950\n",
            "Epoch 9/200\n",
            "59/59 [==============================] - 0s 4ms/step - loss: 1.5421 - accuracy: 0.4981\n",
            "Epoch 10/200\n",
            "59/59 [==============================] - 0s 4ms/step - loss: 1.5360 - accuracy: 0.4997\n",
            "Epoch 11/200\n",
            "59/59 [==============================] - 0s 4ms/step - loss: 1.5301 - accuracy: 0.5025\n",
            "Epoch 12/200\n",
            "59/59 [==============================] - 0s 4ms/step - loss: 1.5242 - accuracy: 0.5044\n",
            "Epoch 13/200\n",
            "59/59 [==============================] - 0s 4ms/step - loss: 1.5183 - accuracy: 0.5061\n",
            "Epoch 14/200\n",
            "59/59 [==============================] - 0s 4ms/step - loss: 1.5125 - accuracy: 0.5089\n",
            "Epoch 15/200\n",
            "59/59 [==============================] - 0s 4ms/step - loss: 1.5068 - accuracy: 0.5104\n",
            "Epoch 16/200\n",
            "59/59 [==============================] - 0s 4ms/step - loss: 1.5012 - accuracy: 0.5123\n",
            "Epoch 17/200\n",
            "59/59 [==============================] - 0s 4ms/step - loss: 1.4956 - accuracy: 0.5150\n",
            "Epoch 18/200\n",
            "59/59 [==============================] - 0s 4ms/step - loss: 1.4900 - accuracy: 0.5178\n",
            "Epoch 19/200\n",
            "59/59 [==============================] - 0s 4ms/step - loss: 1.4845 - accuracy: 0.5201\n",
            "Epoch 20/200\n",
            "59/59 [==============================] - 0s 4ms/step - loss: 1.4791 - accuracy: 0.5219\n",
            "Epoch 21/200\n",
            "59/59 [==============================] - 0s 4ms/step - loss: 1.4737 - accuracy: 0.5246\n",
            "Epoch 22/200\n",
            "59/59 [==============================] - 0s 4ms/step - loss: 1.4683 - accuracy: 0.5257\n",
            "Epoch 23/200\n",
            "59/59 [==============================] - 0s 4ms/step - loss: 1.4630 - accuracy: 0.5295\n",
            "Epoch 24/200\n",
            "59/59 [==============================] - 0s 4ms/step - loss: 1.4577 - accuracy: 0.5306\n",
            "Epoch 25/200\n",
            "59/59 [==============================] - 0s 4ms/step - loss: 1.4525 - accuracy: 0.5327\n",
            "Epoch 26/200\n",
            "59/59 [==============================] - 0s 4ms/step - loss: 1.4473 - accuracy: 0.5354\n",
            "Epoch 27/200\n",
            "59/59 [==============================] - 0s 4ms/step - loss: 1.4421 - accuracy: 0.5371\n",
            "Epoch 28/200\n",
            "59/59 [==============================] - 0s 5ms/step - loss: 1.4370 - accuracy: 0.5393\n",
            "Epoch 29/200\n",
            "59/59 [==============================] - 0s 6ms/step - loss: 1.4319 - accuracy: 0.5418\n",
            "Epoch 30/200\n",
            "59/59 [==============================] - 0s 6ms/step - loss: 1.4269 - accuracy: 0.5451\n",
            "Epoch 31/200\n",
            "59/59 [==============================] - 0s 6ms/step - loss: 1.4218 - accuracy: 0.5473\n",
            "Epoch 32/200\n",
            "59/59 [==============================] - 0s 6ms/step - loss: 1.4168 - accuracy: 0.5499\n",
            "Epoch 33/200\n",
            "59/59 [==============================] - 0s 6ms/step - loss: 1.4118 - accuracy: 0.5526\n",
            "Epoch 34/200\n",
            "59/59 [==============================] - 0s 6ms/step - loss: 1.4069 - accuracy: 0.5556\n",
            "Epoch 35/200\n",
            "59/59 [==============================] - 0s 5ms/step - loss: 1.4019 - accuracy: 0.5572\n",
            "Epoch 36/200\n",
            "59/59 [==============================] - 0s 5ms/step - loss: 1.3970 - accuracy: 0.5600\n",
            "Epoch 37/200\n",
            "59/59 [==============================] - 0s 5ms/step - loss: 1.3921 - accuracy: 0.5627\n",
            "Epoch 38/200\n",
            "59/59 [==============================] - 0s 5ms/step - loss: 1.3873 - accuracy: 0.5645\n",
            "Epoch 39/200\n",
            "59/59 [==============================] - 0s 4ms/step - loss: 1.3824 - accuracy: 0.5665\n",
            "Epoch 40/200\n",
            "59/59 [==============================] - 0s 4ms/step - loss: 1.3776 - accuracy: 0.5697\n",
            "Epoch 41/200\n",
            "59/59 [==============================] - 0s 4ms/step - loss: 1.3728 - accuracy: 0.5713\n",
            "Epoch 42/200\n",
            "59/59 [==============================] - 0s 4ms/step - loss: 1.3680 - accuracy: 0.5746\n",
            "Epoch 43/200\n",
            "59/59 [==============================] - 0s 4ms/step - loss: 1.3632 - accuracy: 0.5770\n",
            "Epoch 44/200\n",
            "59/59 [==============================] - 0s 4ms/step - loss: 1.3584 - accuracy: 0.5785\n",
            "Epoch 45/200\n",
            "59/59 [==============================] - 0s 4ms/step - loss: 1.3536 - accuracy: 0.5820\n",
            "Epoch 46/200\n",
            "59/59 [==============================] - 0s 4ms/step - loss: 1.3489 - accuracy: 0.5842\n",
            "Epoch 47/200\n",
            "59/59 [==============================] - 0s 4ms/step - loss: 1.3441 - accuracy: 0.5864\n",
            "Epoch 48/200\n",
            "59/59 [==============================] - 0s 4ms/step - loss: 1.3394 - accuracy: 0.5877\n",
            "Epoch 49/200\n",
            "59/59 [==============================] - 0s 4ms/step - loss: 1.3347 - accuracy: 0.5906\n",
            "Epoch 50/200\n",
            "59/59 [==============================] - 0s 4ms/step - loss: 1.3300 - accuracy: 0.5928\n",
            "Epoch 51/200\n",
            "59/59 [==============================] - 0s 4ms/step - loss: 1.3253 - accuracy: 0.5944\n",
            "Epoch 52/200\n",
            "59/59 [==============================] - 0s 4ms/step - loss: 1.3206 - accuracy: 0.5969\n",
            "Epoch 53/200\n",
            "59/59 [==============================] - 0s 4ms/step - loss: 1.3159 - accuracy: 0.5989\n",
            "Epoch 54/200\n",
            "59/59 [==============================] - 0s 4ms/step - loss: 1.3113 - accuracy: 0.6011\n",
            "Epoch 55/200\n",
            "59/59 [==============================] - 0s 4ms/step - loss: 1.3066 - accuracy: 0.6033\n",
            "Epoch 56/200\n",
            "59/59 [==============================] - 0s 4ms/step - loss: 1.3020 - accuracy: 0.6061\n",
            "Epoch 57/200\n",
            "59/59 [==============================] - 0s 4ms/step - loss: 1.2973 - accuracy: 0.6084\n",
            "Epoch 58/200\n",
            "59/59 [==============================] - 0s 4ms/step - loss: 1.2927 - accuracy: 0.6100\n",
            "Epoch 59/200\n",
            "59/59 [==============================] - 0s 4ms/step - loss: 1.2881 - accuracy: 0.6125\n",
            "Epoch 60/200\n",
            "59/59 [==============================] - 0s 4ms/step - loss: 1.2834 - accuracy: 0.6150\n",
            "Epoch 61/200\n",
            "59/59 [==============================] - 0s 4ms/step - loss: 1.2788 - accuracy: 0.6177\n",
            "Epoch 62/200\n",
            "59/59 [==============================] - 0s 4ms/step - loss: 1.2742 - accuracy: 0.6191\n",
            "Epoch 63/200\n",
            "59/59 [==============================] - 0s 4ms/step - loss: 1.2697 - accuracy: 0.6207\n",
            "Epoch 64/200\n",
            "59/59 [==============================] - 0s 4ms/step - loss: 1.2651 - accuracy: 0.6229\n",
            "Epoch 65/200\n",
            "59/59 [==============================] - 0s 4ms/step - loss: 1.2605 - accuracy: 0.6259\n",
            "Epoch 66/200\n",
            "59/59 [==============================] - 0s 4ms/step - loss: 1.2560 - accuracy: 0.6282\n",
            "Epoch 67/200\n",
            "59/59 [==============================] - 0s 4ms/step - loss: 1.2514 - accuracy: 0.6299\n",
            "Epoch 68/200\n",
            "59/59 [==============================] - 0s 4ms/step - loss: 1.2469 - accuracy: 0.6323\n",
            "Epoch 69/200\n",
            "59/59 [==============================] - 0s 4ms/step - loss: 1.2424 - accuracy: 0.6338\n",
            "Epoch 70/200\n",
            "59/59 [==============================] - 0s 4ms/step - loss: 1.2379 - accuracy: 0.6351\n",
            "Epoch 71/200\n",
            "59/59 [==============================] - 0s 4ms/step - loss: 1.2334 - accuracy: 0.6380\n",
            "Epoch 72/200\n",
            "59/59 [==============================] - 0s 4ms/step - loss: 1.2289 - accuracy: 0.6402\n",
            "Epoch 73/200\n",
            "59/59 [==============================] - 0s 4ms/step - loss: 1.2244 - accuracy: 0.6422\n",
            "Epoch 74/200\n",
            "59/59 [==============================] - 0s 4ms/step - loss: 1.2200 - accuracy: 0.6443\n",
            "Epoch 75/200\n",
            "59/59 [==============================] - 0s 4ms/step - loss: 1.2156 - accuracy: 0.6463\n",
            "Epoch 76/200\n",
            "59/59 [==============================] - 0s 4ms/step - loss: 1.2112 - accuracy: 0.6481\n",
            "Epoch 77/200\n",
            "59/59 [==============================] - 0s 4ms/step - loss: 1.2068 - accuracy: 0.6498\n",
            "Epoch 78/200\n",
            "59/59 [==============================] - 0s 4ms/step - loss: 1.2024 - accuracy: 0.6526\n",
            "Epoch 79/200\n",
            "59/59 [==============================] - 0s 6ms/step - loss: 1.1980 - accuracy: 0.6542\n",
            "Epoch 80/200\n",
            "59/59 [==============================] - 0s 5ms/step - loss: 1.1937 - accuracy: 0.6563\n",
            "Epoch 81/200\n",
            "59/59 [==============================] - 0s 5ms/step - loss: 1.1894 - accuracy: 0.6583\n",
            "Epoch 82/200\n",
            "59/59 [==============================] - 0s 5ms/step - loss: 1.1850 - accuracy: 0.6603\n",
            "Epoch 83/200\n",
            "59/59 [==============================] - 0s 6ms/step - loss: 1.1808 - accuracy: 0.6622\n",
            "Epoch 84/200\n",
            "59/59 [==============================] - 0s 6ms/step - loss: 1.1765 - accuracy: 0.6641\n",
            "Epoch 85/200\n",
            "59/59 [==============================] - 0s 6ms/step - loss: 1.1723 - accuracy: 0.6660\n",
            "Epoch 86/200\n",
            "59/59 [==============================] - 0s 5ms/step - loss: 1.1680 - accuracy: 0.6676\n",
            "Epoch 87/200\n",
            "59/59 [==============================] - 0s 6ms/step - loss: 1.1638 - accuracy: 0.6697\n",
            "Epoch 88/200\n",
            "59/59 [==============================] - 0s 5ms/step - loss: 1.1597 - accuracy: 0.6713\n",
            "Epoch 89/200\n",
            "59/59 [==============================] - 0s 4ms/step - loss: 1.1555 - accuracy: 0.6732\n",
            "Epoch 90/200\n",
            "59/59 [==============================] - 0s 4ms/step - loss: 1.1514 - accuracy: 0.6753\n",
            "Epoch 91/200\n",
            "59/59 [==============================] - 0s 4ms/step - loss: 1.1473 - accuracy: 0.6768\n",
            "Epoch 92/200\n",
            "59/59 [==============================] - 0s 4ms/step - loss: 1.1432 - accuracy: 0.6787\n",
            "Epoch 93/200\n",
            "59/59 [==============================] - 0s 4ms/step - loss: 1.1391 - accuracy: 0.6803\n",
            "Epoch 94/200\n",
            "59/59 [==============================] - 0s 4ms/step - loss: 1.1351 - accuracy: 0.6826\n",
            "Epoch 95/200\n",
            "59/59 [==============================] - 0s 4ms/step - loss: 1.1310 - accuracy: 0.6837\n",
            "Epoch 96/200\n",
            "59/59 [==============================] - 0s 4ms/step - loss: 1.1270 - accuracy: 0.6860\n",
            "Epoch 97/200\n",
            "59/59 [==============================] - 0s 4ms/step - loss: 1.1231 - accuracy: 0.6876\n",
            "Epoch 98/200\n",
            "59/59 [==============================] - 0s 4ms/step - loss: 1.1191 - accuracy: 0.6897\n",
            "Epoch 99/200\n",
            "59/59 [==============================] - 0s 4ms/step - loss: 1.1152 - accuracy: 0.6910\n",
            "Epoch 100/200\n",
            "59/59 [==============================] - 0s 4ms/step - loss: 1.1113 - accuracy: 0.6926\n",
            "Epoch 101/200\n",
            "59/59 [==============================] - 0s 4ms/step - loss: 1.1074 - accuracy: 0.6940\n",
            "Epoch 102/200\n",
            "59/59 [==============================] - 0s 4ms/step - loss: 1.1036 - accuracy: 0.6956\n",
            "Epoch 103/200\n",
            "59/59 [==============================] - 0s 4ms/step - loss: 1.0997 - accuracy: 0.6966\n",
            "Epoch 104/200\n",
            "59/59 [==============================] - 0s 4ms/step - loss: 1.0959 - accuracy: 0.6981\n",
            "Epoch 105/200\n",
            "59/59 [==============================] - 0s 4ms/step - loss: 1.0922 - accuracy: 0.6998\n",
            "Epoch 106/200\n",
            "59/59 [==============================] - 0s 4ms/step - loss: 1.0884 - accuracy: 0.7014\n",
            "Epoch 107/200\n",
            "59/59 [==============================] - 0s 4ms/step - loss: 1.0847 - accuracy: 0.7026\n",
            "Epoch 108/200\n",
            "59/59 [==============================] - 0s 4ms/step - loss: 1.0809 - accuracy: 0.7044\n",
            "Epoch 109/200\n",
            "59/59 [==============================] - 0s 4ms/step - loss: 1.0773 - accuracy: 0.7059\n",
            "Epoch 110/200\n",
            "59/59 [==============================] - 0s 4ms/step - loss: 1.0736 - accuracy: 0.7068\n",
            "Epoch 111/200\n",
            "59/59 [==============================] - 0s 4ms/step - loss: 1.0699 - accuracy: 0.7080\n",
            "Epoch 112/200\n",
            "59/59 [==============================] - 0s 4ms/step - loss: 1.0663 - accuracy: 0.7095\n",
            "Epoch 113/200\n",
            "59/59 [==============================] - 0s 4ms/step - loss: 1.0627 - accuracy: 0.7107\n",
            "Epoch 114/200\n",
            "59/59 [==============================] - 0s 4ms/step - loss: 1.0591 - accuracy: 0.7124\n",
            "Epoch 115/200\n",
            "59/59 [==============================] - 0s 4ms/step - loss: 1.0556 - accuracy: 0.7132\n",
            "Epoch 116/200\n",
            "59/59 [==============================] - 0s 4ms/step - loss: 1.0520 - accuracy: 0.7149\n",
            "Epoch 117/200\n",
            "59/59 [==============================] - 0s 4ms/step - loss: 1.0485 - accuracy: 0.7158\n",
            "Epoch 118/200\n",
            "59/59 [==============================] - 0s 4ms/step - loss: 1.0450 - accuracy: 0.7170\n",
            "Epoch 119/200\n",
            "59/59 [==============================] - 0s 4ms/step - loss: 1.0415 - accuracy: 0.7188\n",
            "Epoch 120/200\n",
            "59/59 [==============================] - 0s 4ms/step - loss: 1.0381 - accuracy: 0.7197\n",
            "Epoch 121/200\n",
            "59/59 [==============================] - 0s 4ms/step - loss: 1.0347 - accuracy: 0.7209\n",
            "Epoch 122/200\n",
            "59/59 [==============================] - 0s 4ms/step - loss: 1.0312 - accuracy: 0.7224\n",
            "Epoch 123/200\n",
            "59/59 [==============================] - 0s 4ms/step - loss: 1.0278 - accuracy: 0.7238\n",
            "Epoch 124/200\n",
            "59/59 [==============================] - 0s 4ms/step - loss: 1.0245 - accuracy: 0.7252\n",
            "Epoch 125/200\n",
            "59/59 [==============================] - 0s 4ms/step - loss: 1.0211 - accuracy: 0.7262\n",
            "Epoch 126/200\n",
            "59/59 [==============================] - 0s 4ms/step - loss: 1.0178 - accuracy: 0.7273\n",
            "Epoch 127/200\n",
            "59/59 [==============================] - 0s 4ms/step - loss: 1.0144 - accuracy: 0.7286\n",
            "Epoch 128/200\n",
            "59/59 [==============================] - 0s 4ms/step - loss: 1.0112 - accuracy: 0.7299\n",
            "Epoch 129/200\n",
            "59/59 [==============================] - 0s 5ms/step - loss: 1.0079 - accuracy: 0.7314\n",
            "Epoch 130/200\n",
            "59/59 [==============================] - 0s 5ms/step - loss: 1.0046 - accuracy: 0.7322\n",
            "Epoch 131/200\n",
            "59/59 [==============================] - 0s 6ms/step - loss: 1.0014 - accuracy: 0.7335\n",
            "Epoch 132/200\n",
            "59/59 [==============================] - 0s 6ms/step - loss: 0.9981 - accuracy: 0.7344\n",
            "Epoch 133/200\n",
            "59/59 [==============================] - 0s 6ms/step - loss: 0.9949 - accuracy: 0.7358\n",
            "Epoch 134/200\n",
            "59/59 [==============================] - 0s 6ms/step - loss: 0.9917 - accuracy: 0.7370\n",
            "Epoch 135/200\n",
            "59/59 [==============================] - 0s 6ms/step - loss: 0.9885 - accuracy: 0.7380\n",
            "Epoch 136/200\n",
            "59/59 [==============================] - 0s 5ms/step - loss: 0.9854 - accuracy: 0.7393\n",
            "Epoch 137/200\n",
            "59/59 [==============================] - 0s 5ms/step - loss: 0.9822 - accuracy: 0.7401\n",
            "Epoch 138/200\n",
            "59/59 [==============================] - 0s 6ms/step - loss: 0.9791 - accuracy: 0.7411\n",
            "Epoch 139/200\n",
            "59/59 [==============================] - 0s 6ms/step - loss: 0.9760 - accuracy: 0.7425\n",
            "Epoch 140/200\n",
            "59/59 [==============================] - 0s 4ms/step - loss: 0.9729 - accuracy: 0.7435\n",
            "Epoch 141/200\n",
            "59/59 [==============================] - 0s 4ms/step - loss: 0.9698 - accuracy: 0.7446\n",
            "Epoch 142/200\n",
            "59/59 [==============================] - 0s 4ms/step - loss: 0.9668 - accuracy: 0.7454\n",
            "Epoch 143/200\n",
            "59/59 [==============================] - 0s 4ms/step - loss: 0.9637 - accuracy: 0.7465\n",
            "Epoch 144/200\n",
            "59/59 [==============================] - 0s 4ms/step - loss: 0.9607 - accuracy: 0.7474\n",
            "Epoch 145/200\n",
            "59/59 [==============================] - 0s 4ms/step - loss: 0.9577 - accuracy: 0.7488\n",
            "Epoch 146/200\n",
            "59/59 [==============================] - 0s 4ms/step - loss: 0.9547 - accuracy: 0.7495\n",
            "Epoch 147/200\n",
            "59/59 [==============================] - 0s 4ms/step - loss: 0.9517 - accuracy: 0.7505\n",
            "Epoch 148/200\n",
            "59/59 [==============================] - 0s 4ms/step - loss: 0.9487 - accuracy: 0.7512\n",
            "Epoch 149/200\n",
            "59/59 [==============================] - 0s 4ms/step - loss: 0.9458 - accuracy: 0.7525\n",
            "Epoch 150/200\n",
            "59/59 [==============================] - 0s 4ms/step - loss: 0.9428 - accuracy: 0.7536\n",
            "Epoch 151/200\n",
            "59/59 [==============================] - 0s 4ms/step - loss: 0.9399 - accuracy: 0.7547\n",
            "Epoch 152/200\n",
            "59/59 [==============================] - 0s 4ms/step - loss: 0.9370 - accuracy: 0.7552\n",
            "Epoch 153/200\n",
            "59/59 [==============================] - 0s 4ms/step - loss: 0.9341 - accuracy: 0.7565\n",
            "Epoch 154/200\n",
            "59/59 [==============================] - 0s 4ms/step - loss: 0.9312 - accuracy: 0.7572\n",
            "Epoch 155/200\n",
            "59/59 [==============================] - 0s 4ms/step - loss: 0.9283 - accuracy: 0.7583\n",
            "Epoch 156/200\n",
            "59/59 [==============================] - 0s 4ms/step - loss: 0.9255 - accuracy: 0.7588\n",
            "Epoch 157/200\n",
            "59/59 [==============================] - 0s 4ms/step - loss: 0.9226 - accuracy: 0.7597\n",
            "Epoch 158/200\n",
            "59/59 [==============================] - 0s 4ms/step - loss: 0.9198 - accuracy: 0.7609\n",
            "Epoch 159/200\n",
            "59/59 [==============================] - 0s 4ms/step - loss: 0.9170 - accuracy: 0.7616\n",
            "Epoch 160/200\n",
            "59/59 [==============================] - 0s 4ms/step - loss: 0.9142 - accuracy: 0.7624\n",
            "Epoch 161/200\n",
            "59/59 [==============================] - 0s 4ms/step - loss: 0.9114 - accuracy: 0.7630\n",
            "Epoch 162/200\n",
            "59/59 [==============================] - 0s 4ms/step - loss: 0.9086 - accuracy: 0.7642\n",
            "Epoch 163/200\n",
            "59/59 [==============================] - 0s 4ms/step - loss: 0.9059 - accuracy: 0.7648\n",
            "Epoch 164/200\n",
            "59/59 [==============================] - 0s 4ms/step - loss: 0.9031 - accuracy: 0.7659\n",
            "Epoch 165/200\n",
            "59/59 [==============================] - 0s 4ms/step - loss: 0.9004 - accuracy: 0.7664\n",
            "Epoch 166/200\n",
            "59/59 [==============================] - 0s 4ms/step - loss: 0.8977 - accuracy: 0.7678\n",
            "Epoch 167/200\n",
            "59/59 [==============================] - 0s 4ms/step - loss: 0.8950 - accuracy: 0.7685\n",
            "Epoch 168/200\n",
            "59/59 [==============================] - 0s 4ms/step - loss: 0.8923 - accuracy: 0.7696\n",
            "Epoch 169/200\n",
            "59/59 [==============================] - 0s 4ms/step - loss: 0.8896 - accuracy: 0.7703\n",
            "Epoch 170/200\n",
            "59/59 [==============================] - 0s 4ms/step - loss: 0.8869 - accuracy: 0.7714\n",
            "Epoch 171/200\n",
            "59/59 [==============================] - 0s 4ms/step - loss: 0.8843 - accuracy: 0.7725\n",
            "Epoch 172/200\n",
            "59/59 [==============================] - 0s 4ms/step - loss: 0.8816 - accuracy: 0.7733\n",
            "Epoch 173/200\n",
            "59/59 [==============================] - 0s 4ms/step - loss: 0.8790 - accuracy: 0.7745\n",
            "Epoch 174/200\n",
            "59/59 [==============================] - 0s 4ms/step - loss: 0.8764 - accuracy: 0.7752\n",
            "Epoch 175/200\n",
            "59/59 [==============================] - 0s 4ms/step - loss: 0.8738 - accuracy: 0.7760\n",
            "Epoch 176/200\n",
            "59/59 [==============================] - 0s 4ms/step - loss: 0.8712 - accuracy: 0.7768\n",
            "Epoch 177/200\n",
            "59/59 [==============================] - 0s 4ms/step - loss: 0.8686 - accuracy: 0.7776\n",
            "Epoch 178/200\n",
            "59/59 [==============================] - 0s 4ms/step - loss: 0.8660 - accuracy: 0.7784\n",
            "Epoch 179/200\n",
            "59/59 [==============================] - 0s 4ms/step - loss: 0.8635 - accuracy: 0.7793\n",
            "Epoch 180/200\n",
            "59/59 [==============================] - 0s 6ms/step - loss: 0.8609 - accuracy: 0.7796\n",
            "Epoch 181/200\n",
            "59/59 [==============================] - 0s 5ms/step - loss: 0.8584 - accuracy: 0.7807\n",
            "Epoch 182/200\n",
            "59/59 [==============================] - 0s 5ms/step - loss: 0.8559 - accuracy: 0.7814\n",
            "Epoch 183/200\n",
            "59/59 [==============================] - 0s 5ms/step - loss: 0.8533 - accuracy: 0.7825\n",
            "Epoch 184/200\n",
            "59/59 [==============================] - 0s 5ms/step - loss: 0.8508 - accuracy: 0.7833\n",
            "Epoch 185/200\n",
            "59/59 [==============================] - 0s 6ms/step - loss: 0.8484 - accuracy: 0.7841\n",
            "Epoch 186/200\n",
            "59/59 [==============================] - 0s 6ms/step - loss: 0.8459 - accuracy: 0.7849\n",
            "Epoch 187/200\n",
            "59/59 [==============================] - 0s 5ms/step - loss: 0.8434 - accuracy: 0.7858\n",
            "Epoch 188/200\n",
            "59/59 [==============================] - 0s 6ms/step - loss: 0.8410 - accuracy: 0.7865\n",
            "Epoch 189/200\n",
            "59/59 [==============================] - 0s 6ms/step - loss: 0.8385 - accuracy: 0.7875\n",
            "Epoch 190/200\n",
            "59/59 [==============================] - 0s 6ms/step - loss: 0.8361 - accuracy: 0.7881\n",
            "Epoch 191/200\n",
            "59/59 [==============================] - 0s 4ms/step - loss: 0.8337 - accuracy: 0.7891\n",
            "Epoch 192/200\n",
            "59/59 [==============================] - 0s 4ms/step - loss: 0.8313 - accuracy: 0.7898\n",
            "Epoch 193/200\n",
            "59/59 [==============================] - 0s 4ms/step - loss: 0.8289 - accuracy: 0.7904\n",
            "Epoch 194/200\n",
            "59/59 [==============================] - 0s 4ms/step - loss: 0.8265 - accuracy: 0.7912\n",
            "Epoch 195/200\n",
            "59/59 [==============================] - 0s 4ms/step - loss: 0.8241 - accuracy: 0.7919\n",
            "Epoch 196/200\n",
            "59/59 [==============================] - 0s 4ms/step - loss: 0.8217 - accuracy: 0.7928\n",
            "Epoch 197/200\n",
            "59/59 [==============================] - 0s 4ms/step - loss: 0.8194 - accuracy: 0.7937\n",
            "Epoch 198/200\n",
            "59/59 [==============================] - 0s 4ms/step - loss: 0.8170 - accuracy: 0.7944\n",
            "Epoch 199/200\n",
            "59/59 [==============================] - 0s 4ms/step - loss: 0.8147 - accuracy: 0.7955\n",
            "Epoch 200/200\n",
            "59/59 [==============================] - 0s 4ms/step - loss: 0.8124 - accuracy: 0.7961\n"
          ]
        },
        {
          "output_type": "execute_result",
          "data": {
            "text/plain": [
              "<keras.callbacks.History at 0x7f51c824bd60>"
            ]
          },
          "metadata": {},
          "execution_count": 71
        }
      ],
      "source": [
        "network.fit(train_images, train_labels, epochs=200, batch_size=1024)"
      ]
    },
    {
      "cell_type": "markdown",
      "metadata": {
        "id": "heVasO26zp6V"
      },
      "source": [
        "- Two quantities are displayed during training:\n",
        "    - The loss of the network over the training data\n",
        "    - The accuracy of the network over the training data\n",
        "    \n",
        "- We quickly reach an accuracy of **$0.9886 (98.86\\%)$** on the training data."
      ]
    },
    {
      "cell_type": "markdown",
      "metadata": {
        "id": "0eDaNGAYzp6X"
      },
      "source": [
        "- Now let's check that the model performs well on the test set, too:"
      ]
    },
    {
      "cell_type": "code",
      "execution_count": null,
      "metadata": {
        "colab": {
          "base_uri": "https://localhost:8080/"
        },
        "id": "2-UhmyTWzp6Y",
        "outputId": "aabfb83b-d7cc-4a88-8601-ff41fb4068cb"
      },
      "outputs": [
        {
          "output_type": "stream",
          "name": "stdout",
          "text": [
            "313/313 [==============================] - 1s 2ms/step - loss: 2.2714 - accuracy: 0.1240\n"
          ]
        }
      ],
      "source": [
        "test_loss, test_acc = network.evaluate(test_images, test_labels)"
      ]
    },
    {
      "cell_type": "code",
      "execution_count": null,
      "metadata": {
        "colab": {
          "base_uri": "https://localhost:8080/"
        },
        "id": "omz-cZXLzp6d",
        "outputId": "a08ba8db-3844-4a47-dd48-c32e5461a8b8"
      },
      "outputs": [
        {
          "output_type": "stream",
          "name": "stdout",
          "text": [
            "Test Accuracy: 0.12400 \n"
          ]
        }
      ],
      "source": [
        "print('Test Accuracy: {:.5f} '.format(test_acc))"
      ]
    },
    {
      "cell_type": "code",
      "execution_count": null,
      "metadata": {
        "colab": {
          "base_uri": "https://localhost:8080/"
        },
        "id": "cbIp64KFzp6g",
        "outputId": "88cfc14c-94ca-47b9-8438-b1fce3630e48"
      },
      "outputs": [
        {
          "output_type": "execute_result",
          "data": {
            "text/plain": [
              "0.12399999797344208"
            ]
          },
          "metadata": {},
          "execution_count": 26
        }
      ],
      "source": [
        "test_acc"
      ]
    },
    {
      "cell_type": "markdown",
      "metadata": {
        "id": "yi5jDr-0zp6k"
      },
      "source": [
        "- The test-set accuracy turns out to be $97.780\\%$--that is quite a bit lower than the training set accuracy. This gap between training and test accuracy is an example of **overfitting**:the fact that the ML models tend to perform worse on new data than on their training data."
      ]
    },
    {
      "cell_type": "code",
      "execution_count": null,
      "metadata": {
        "colab": {
          "base_uri": "https://localhost:8080/",
          "height": 369
        },
        "id": "JOu1IQW6zp6l",
        "outputId": "1c91d0b8-69e2-4ab2-c478-4ed61827419b"
      },
      "outputs": [
        {
          "output_type": "execute_result",
          "data": {
            "image/png": "[encoded data removed]",
            "text/plain": [
              "<IPython.core.display.Image object>"
            ]
          },
          "metadata": {},
          "execution_count": 19
        }
      ],
      "source": [
        "from keras.utils import plot_model\n",
        "plot_model(network, to_file='model.png')"
      ]
    },
    {
      "cell_type": "code",
      "execution_count": null,
      "metadata": {
        "colab": {
          "base_uri": "https://localhost:8080/",
          "height": 764
        },
        "id": "LVvUxpAkOQuz",
        "outputId": "f918612a-dcbc-482f-d414-9755ec15417a"
      },
      "outputs": [
        {
          "output_type": "stream",
          "name": "stdout",
          "text": [
            "Epoch 1/5\n",
            "79/79 [==============================] - 5s 9ms/step - loss: 2.3631 - accuracy: 0.1156 - val_loss: 2.3459 - val_accuracy: 0.1122\n",
            "Epoch 2/5\n",
            "79/79 [==============================] - 0s 5ms/step - loss: 2.3289 - accuracy: 0.1156 - val_loss: 2.3210 - val_accuracy: 0.1089\n",
            "Epoch 3/5\n",
            "79/79 [==============================] - 0s 5ms/step - loss: 2.3110 - accuracy: 0.1143 - val_loss: 2.3075 - val_accuracy: 0.1088\n",
            "Epoch 4/5\n",
            "79/79 [==============================] - 1s 9ms/step - loss: 2.3010 - accuracy: 0.1141 - val_loss: 2.2993 - val_accuracy: 0.1088\n",
            "Epoch 5/5\n",
            "79/79 [==============================] - 1s 7ms/step - loss: 2.2948 - accuracy: 0.1141 - val_loss: 2.2939 - val_accuracy: 0.1088\n",
            "dict_keys(['loss', 'accuracy', 'val_loss', 'val_accuracy'])\n"
          ]
        },
        {
          "output_type": "display_data",
          "data": {
            "text/plain": [
              "<Figure size 432x288 with 1 Axes>"
            ],
            "image/png": "[encoded data removed]"
          },
          "metadata": {
            "needs_background": "light"
          }
        },
        {
          "output_type": "display_data",
          "data": {
            "text/plain": [
              "<Figure size 432x288 with 1 Axes>"
            ],
            "image/png": "[encoded data removed]"
          },
          "metadata": {
            "needs_background": "light"
          }
        }
      ],
      "source": [
        "import matplotlib.pyplot as plt\n",
        "history =network.fit(train_images, train_labels, validation_split=0.33,epochs=5, batch_size=512)\n",
        "history_dict = history.history\n",
        "print(history_dict.keys())\n",
        "plt.plot(history.history['accuracy'])\n",
        "plt.plot(history.history['val_accuracy'])\n",
        "plt.title('Model accuracy')\n",
        "plt.ylabel('Accuracy')\n",
        "plt.xlabel('Epoch')\n",
        "plt.legend(['Train', 'Test'], loc='upper left')\n",
        "plt.show()\n",
        "\n",
        "# Plot training & validation loss values\n",
        "plt.plot(history.history['loss'])\n",
        "plt.plot(history.history['val_loss'])\n",
        "plt.title('Model loss')\n",
        "plt.ylabel('Loss')\n",
        "plt.xlabel('Epoch')\n",
        "plt.legend(['Train', 'Test'], loc='upper left')\n",
        "plt.show()"
      ]
    }
  ],
  "metadata": {
    "accelerator": "GPU",
    "colab": {
      "provenance": [],
      "include_colab_link": true
    },
    "kernelspec": {
      "display_name": "Python 3",
      "name": "python3"
    },
    "toc": {
      "nav_menu": {},
      "number_sections": true,
      "sideBar": true,
      "skip_h1_title": false,
      "toc_cell": true,
      "toc_position": {},
      "toc_section_display": "block",
      "toc_window_display": false
    }
  },
  "nbformat": 4,
  "nbformat_minor": 0
}